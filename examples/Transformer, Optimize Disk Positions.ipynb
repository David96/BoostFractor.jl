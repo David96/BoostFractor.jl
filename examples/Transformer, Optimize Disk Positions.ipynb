{
 "cells": [
  {
   "cell_type": "markdown",
   "metadata": {},
   "source": [
    "# Introduction\n",
    "\n",
    "In this notebook we will optimize disk spacings using the transformer algorithm. When optimizing for a certain frequency range $\\nu_{min} - \\nu_{max}$\n",
    "we minimize the cost function $C=-min(\\beta ^2 (\\nu) | \\nu_{min} < \\nu < \\nu_{max})$. Essentially we take the worst frequency point of the boostfactor curve in this range and try to increase it (by decreasing the negative). This will naturally lead to a flat top hat shape.\n",
    "\n",
    "To reduce computation we only calculate the boostfactor in the range $\\nu_{min} - \\nu_{max}$ and keep the number of frequency points to a sensible minimum. With increasing disk number more points are needed to resolve the \"wiggles\" on top of the boostfactor. \n",
    "\n",
    "One also has to choose what boostfactor mode to optimize for. Fundamental mode, other modes, coupled power?\n",
    "\n",
    "Transformer calculates the mixing between modes which is computationally the most expensive part. In order to make optimization feasable we calculate the mixing for a selected number of points beforehand and then quickly interpolate the exact spacing during optimization. \n",
    "\n",
    "For gradient based methods we have to approximate the non-differentiable minimum() with a smooth function like the p-norm.\n",
    "Still, very close to the minimum the gradient might be unstable and gradient based methods might struggle. \n"
   ]
  },
  {
   "cell_type": "code",
   "execution_count": 1,
   "metadata": {},
   "outputs": [
    {
     "data": {
      "text/plain": [
       "p_norm"
      ]
     },
     "execution_count": 1,
     "metadata": {},
     "output_type": "execute_result"
    }
   ],
   "source": [
    "using BoostFractor\n",
    "using Optim\n",
    "using ForwardDiff #If we use gradient-based optimization\n",
    "using PyPlot\n",
    "include(\"transformer_optim_utilities.jl\") #Bunch of helper functions"
   ]
  },
  {
   "cell_type": "markdown",
   "metadata": {},
   "source": [
    "# Setup"
   ]
  },
  {
   "cell_type": "code",
   "execution_count": 13,
   "metadata": {},
   "outputs": [],
   "source": [
    "#Physical Parameters\n",
    "n_disk = 20\n",
    "epsilon = 24\n",
    "diskR = 0.15\n",
    "\n",
    "\n",
    "_1D = true #Try 1D for faster computation\n",
    "Mmax = 2\n",
    "Lmax = 1\n",
    "if _1D\n",
    "    Mmax = 1\n",
    "    Lmax = 0\n",
    "end\n",
    "\n",
    "#We start with the most generic spacing possible: Equidistant spacing. Make sure the peak is roughly located in the desired \n",
    "#frequency range.\n",
    "init_spacing = 0.007118;\n"
   ]
  },
  {
   "cell_type": "code",
   "execution_count": 14,
   "metadata": {},
   "outputs": [],
   "source": [
    "#Frequency range to optimize. For 20 disks and 50 MHz 8 points seems sufficient, 80 disks needs ~20-25\n",
    "freq_center = 22.278e9\n",
    "freq_width = 50e6\n",
    "n_freq_optim = 8\n",
    "freq_min = freq_center-freq_width/2\n",
    "freq_max = freq_center+freq_width/2\n",
    "frequencies_optim = range(freq_min,stop=freq_max,length=n_freq_optim);\n",
    "\n",
    "#For Plotting\n",
    "df = 0.004*1e9\n",
    "frequencies_plot = 22.1e9:df:22.6e9;"
   ]
  },
  {
   "cell_type": "code",
   "execution_count": 15,
   "metadata": {},
   "outputs": [
    {
     "data": {
      "text/plain": [
       "1-element Array{Float64,1}:\n",
       " 1.0"
      ]
     },
     "execution_count": 15,
     "metadata": {},
     "output_type": "execute_result"
    }
   ],
   "source": [
    "#Usual transformer setup\n",
    "n_region = 2*n_disk+2\n",
    "\n",
    "# SetupBoundaries (note that this expects the mirror to be defined explicitly as a region)\n",
    "eps = Array{Complex{Float64}}([i==1 ? 1e20 : i%2==0 ? 1 : epsilon for i=1:n_region])\n",
    "\n",
    "distance = Array{Float64}([i==1 ? 0 : i%2==0 ? init_spacing : 1e-3 for i=1:n_region])\n",
    "distance[end] = 0\n",
    "\n",
    "# Coordinate System\n",
    "dx = 0.007\n",
    "X = -0.5:dx:0.5\n",
    "Y = -0.5:dx:0.5\n",
    "coords = SeedCoordinateSystem(X = X, Y = Y)\n",
    "\n",
    "#Uncomment to include thickness varation\n",
    "init_thickness_variation = zeros(n_region,length(X),length(Y))\n",
    "#xi = 0.035\n",
    "#sigma = 2e-6;\n",
    "#init_thickness_variation = surface_roughness(X,Y,n_region,mag=sigma,trunc=sigma*10, xi=xi, diskR=diskR)\n",
    "\n",
    "sbdry_init = SeedSetupBoundaries(coords, diskno=n_disk, distance=distance, epsilon=eps,relative_surfaces=init_thickness_variation)\n",
    "# Initialize modes\n",
    "modes = SeedModes(coords, ThreeDim=true, Mmax=Mmax, Lmax=Lmax, diskR=diskR)\n",
    "\n",
    "#  Mode-Vector defining beam shape to be reflected on the system. Also defines the coupled boostfactor we want to optimize\n",
    "# For now assume a fundamental mode beam shape\n",
    "m_reflect = zeros(Mmax*(2*Lmax+1))\n",
    "m_reflect[Lmax+1] = 1.0;\n",
    "\n",
    "#Propagator function to be used\n",
    "prop = propagator;\n",
    "if _1D\n",
    "    coords = SeedCoordinateSystem(X = [1e-7], Y = [1e-7])\n",
    "    sbdry_init = SeedSetupBoundaries(coords, diskno=n_disk, distance=distance, epsilon=eps)\n",
    "    modes = SeedModes(coords, ThreeDim=false, Mmax=Mmax, Lmax=Lmax, diskR=diskR)\n",
    "    prop = propagator1D\n",
    "    m_reflect = [1.0]\n",
    "end"
   ]
  },
  {
   "cell_type": "markdown",
   "metadata": {},
   "source": [
    "# Plot Initial Boostfactor "
   ]
  },
  {
   "cell_type": "code",
   "execution_count": 17,
   "metadata": {},
   "outputs": [],
   "source": [
    "#Calculate FULL frequency prop matrix of initial setup for plotting\n",
    "prop_matrix_grid_plot = calc_propagation_matrices_grid(sbdry_init,coords,modes,0,frequencies_plot;prop=prop, diskR=diskR);\n",
    "prop_matrix_plot = [prop_matrix_grid_plot[r,f,1,1,1,:,:] for r=1:n_region, f=1:length(frequencies_plot)]\n",
    "Eout_init = calc_boostfactor_modes(sbdry_init,coords,modes,frequencies_plot, prop_matrix_plot;prop=prop, diskR=diskR);"
   ]
  },
  {
   "cell_type": "code",
   "execution_count": 18,
   "metadata": {},
   "outputs": [
    {
     "data": {
      "image/png": "[encoded data removed]",
      "text/plain": [
       "Figure(PyObject <Figure size 640x480 with 1 Axes>)"
      ]
     },
     "metadata": {},
     "output_type": "display_data"
    },
    {
     "data": {
      "text/plain": [
       "PyObject Text(24.0, 0.5, 'Power Boostfactor')"
      ]
     },
     "execution_count": 18,
     "metadata": {},
     "output_type": "execute_result"
    }
   ],
   "source": [
    "#Only plot fundamental mode\n",
    "plot(frequencies_plot.*1e-9,abs2.(Eout_init)[1,Lmax+1,:])\n",
    "xlabel(\"Frequency [GHz]\")\n",
    "ylabel(\"Power Boostfactor\")"
   ]
  },
  {
   "cell_type": "markdown",
   "metadata": {},
   "source": [
    "# Propagation Matrix Interpolation"
   ]
  },
  {
   "cell_type": "code",
   "execution_count": 19,
   "metadata": {},
   "outputs": [],
   "source": [
    "#Calculate interpolation object for frequencies we want to optimize\n",
    "#To avoid calculating the costly propagation matrix for each possible distance, we calculate it only at\n",
    "#some points and interpolate the others. The spacing grid is relative distance changes from the provided sbdry struct.\n",
    "#The grid steps shouldn't be larger than 50 um. Choose a sensible range to safe computation (e.g. a small range if you\n",
    "# are already close to the optimum, larger if far away) \n",
    "spacing_grid = (-2500:50:2500)*1e-6;\n",
    "\n",
    "prop_matrix_grid_sub = calc_propagation_matrices_grid(sbdry_init,coords,modes,spacing_grid,frequencies_optim;prop=prop, diskR=diskR);\n",
    "#This is the interpolation object that is being called when interpolating\n",
    "itp_sub = construct_prop_matrix_interpolation(prop_matrix_grid_sub, spacing_grid);"
   ]
  },
  {
   "cell_type": "markdown",
   "metadata": {},
   "source": [
    "# Optimization"
   ]
  },
  {
   "cell_type": "code",
   "execution_count": 20,
   "metadata": {},
   "outputs": [],
   "source": [
    "#We define a single argument cost function for the optimizer\n",
    "#m_reflect defines the combination of modes we want to optimize. For now we are only interested in the fundamental mode\n",
    "function cost_fun(x)\n",
    "    return calc_boostfactor_cost(x,itp_sub,frequencies_optim,sbdry_init,coords,modes,m_reflect;prop=prop, diskR=diskR)\n",
    "end;"
   ]
  },
  {
   "cell_type": "code",
   "execution_count": 21,
   "metadata": {},
   "outputs": [
    {
     "data": {
      "text/plain": [
       " * Status: success\n",
       "\n",
       " * Candidate solution\n",
       "    Final objective value:     -1.227970e+04\n",
       "\n",
       " * Found with\n",
       "    Algorithm:     Nelder-Mead\n",
       "\n",
       " * Convergence measures\n",
       "    √(Σ(yᵢ-ȳ)²)/n ≤ 1.0e-02\n",
       "\n",
       " * Work counters\n",
       "    Seconds run:   64  (vs limit Inf)\n",
       "    Iterations:    38396\n",
       "    f(x) calls:    53005\n"
      ]
     },
     "execution_count": 21,
     "metadata": {},
     "output_type": "execute_result"
    }
   ],
   "source": [
    "#With NelderMead. Slow but robust\n",
    "options_nm = Optim.Options(g_tol = 1e-2,iterations=100000)\n",
    "#Add some random variation to start spacing. Convergence very much depend on a good start point.\n",
    "x_0 = 2 .* (rand(n_disk).-0.5) .* 100e-6\n",
    "result_nm = optimize(cost_fun,x_0,NelderMead(),options_nm)"
   ]
  },
  {
   "cell_type": "code",
   "execution_count": 29,
   "metadata": {},
   "outputs": [
    {
     "data": {
      "text/plain": [
       " * Status: success\n",
       "\n",
       " * Candidate solution\n",
       "    Final objective value:     -1.125492e+04\n",
       "\n",
       " * Found with\n",
       "    Algorithm:     BFGS\n",
       "\n",
       " * Convergence measures\n",
       "    |x - x'|               = 1.43e-07 ≰ 0.0e+00\n",
       "    |x - x'|/|x'|          = 6.40e-05 ≰ 0.0e+00\n",
       "    |f(x) - f(x')|         = 1.43e-03 ≰ 0.0e+00\n",
       "    |f(x) - f(x')|/|f(x')| = 1.27e-07 ≤ 1.0e-05\n",
       "    |g(x)|                 = 1.19e+08 ≰ 1.0e-08\n",
       "\n",
       " * Work counters\n",
       "    Seconds run:   3  (vs limit Inf)\n",
       "    Iterations:    62\n",
       "    f(x) calls:    1589\n",
       "    ∇f(x) calls:   1589\n"
      ]
     },
     "execution_count": 29,
     "metadata": {},
     "output_type": "execute_result"
    }
   ],
   "source": [
    "#Quasi-Newton (gradient-based). Fast but likes to get stuck in local minima. \n",
    "algorithm = BFGS()\n",
    "options_optim = Optim.Options(f_tol = 1e-5)\n",
    "#Add some random variation to start spacing. Convergence very much depend on a good start point.\n",
    "x_0 = 2 .* (rand(n_disk).-0.5) .* 100e-6\n",
    "od = OnceDifferentiable(cost_fun,x_0; autodiff=:forward)\n",
    "result_qn = optimize(od,x_0,algorithm,options_optim)"
   ]
  },
  {
   "cell_type": "code",
   "execution_count": 30,
   "metadata": {},
   "outputs": [],
   "source": [
    "#Plot results\n",
    "#Create optimized setup\n",
    "sbdry_optim = copy_setup_boundaries(sbdry_init,coords)\n",
    "sbdry_optim.distance[2:2:end-2] .+= Optim.minimizer(result_qn)#Remember we optimized relative distance changes to initial setup\n",
    "\n",
    "#Calculate exact prop matrix grid at a dist shift of zero of optimized setup. No interpolation.\n",
    "prop_matrix_grid_plot = calc_propagation_matrices_grid(sbdry_optim,coords,modes,0,frequencies_plot; prop=prop, diskR=diskR);\n",
    "prop_matrix_plot = [prop_matrix_grid_plot[r,f,1,1,1,:,:] for r=1:n_region, f=1:length(frequencies_plot)]\n",
    "Eout_optim = calc_boostfactor_modes(sbdry_optim,coords,modes,frequencies_plot, prop_matrix_plot; prop=prop, diskR=diskR);\n"
   ]
  },
  {
   "cell_type": "code",
   "execution_count": 31,
   "metadata": {},
   "outputs": [
    {
     "data": {
      "image/png": "[encoded data removed]",
      "text/plain": [
       "Figure(PyObject <Figure size 640x480 with 1 Axes>)"
      ]
     },
     "metadata": {},
     "output_type": "display_data"
    },
    {
     "data": {
      "text/plain": [
       "PyObject Text(24.0, 0.5, 'Power Boostfactor')"
      ]
     },
     "execution_count": 31,
     "metadata": {},
     "output_type": "execute_result"
    }
   ],
   "source": [
    "plot(frequencies_plot.*1e-9,abs2.(Eout_init)[1,Lmax+1,:])\n",
    "plot(frequencies_plot.*1e-9,abs2.(Eout_optim)[1,Lmax+1,:])\n",
    "xlabel(\"Frequency [GHz]\")\n",
    "ylabel(\"Power Boostfactor\")"
   ]
  },
  {
   "cell_type": "code",
   "execution_count": null,
   "metadata": {},
   "outputs": [],
   "source": []
  }
 ],
 "metadata": {
  "kernelspec": {
   "display_name": "Julia 1.5.2",
   "language": "julia",
   "name": "julia-1.5"
  },
  "language_info": {
   "file_extension": ".jl",
   "mimetype": "application/julia",
   "name": "julia",
   "version": "1.5.2"
  }
 },
 "nbformat": 4,
 "nbformat_minor": 4
}
